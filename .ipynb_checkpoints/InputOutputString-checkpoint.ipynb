{
 "cells": [
  {
   "cell_type": "code",
   "execution_count": 3,
   "id": "0b1bb9b6-ca19-4b42-82bc-ab89d9c4ffe0",
   "metadata": {},
   "outputs": [
    {
     "name": "stdout",
     "output_type": "stream",
     "text": [
      "putra nusa\n"
     ]
    }
   ],
   "source": [
    "kalimat = \"UNIVERSITAS NUSA PUTRA SUKABUMI\"\n",
    "\n",
    "kata_kata = kalimat.split()\n",
    "\n",
    "output = f\"{kata_kata[2].lower()} {kata_kata[1].lower()}\"\n",
    "print(output)"
   ]
  },
  {
   "cell_type": "code",
   "execution_count": 14,
   "id": "5e00a8da-dc45-4e7d-9e79-5abbec29ec43",
   "metadata": {},
   "outputs": [
    {
     "name": "stdout",
     "output_type": "stream",
     "text": [
      "NIVERSITAS NSA PTRA SKABMIEDN\n"
     ]
    }
   ],
   "source": [
    "kalimat = \"UNIVERSITAS NUSA PUTRA SUKABUMI\"\n",
    "\n",
    "output = kalimat.replace('U', '').replace('u', '')\n",
    "print(output)"
   ]
  },
  {
   "cell_type": "code",
   "execution_count": 16,
   "id": "4981582b-e736-405c-b3c6-b7a1f482596e",
   "metadata": {},
   "outputs": [
    {
     "name": "stdout",
     "output_type": "stream",
     "text": [
      "SUKABUMI PUTRA NUSA UNIVERSITAS\n"
     ]
    }
   ],
   "source": [
    "kalimat = \"UNIVERSITAS NUSA PUTRA SUKABUMI\"\n",
    "\n",
    "kata_kata = kalimat.split()\n",
    "kata_kata_balik = kata_kata[::-1]\n",
    "kalimat_balik = ' '.join(kata_kata_balik)\n",
    "\n",
    "print(kalimat_balik)"
   ]
  },
  {
   "cell_type": "code",
   "execution_count": 18,
   "id": "13cc5439-3fbd-4260-95fa-3968325767a4",
   "metadata": {},
   "outputs": [
    {
     "name": "stdout",
     "output_type": "stream",
     "text": [
      "UNPS\n"
     ]
    }
   ],
   "source": [
    "kalimat = \"UNIVERSITAS NUSA PUTRA SUKABUMI\"\n",
    "\n",
    "kata_kata = kalimat.split()\n",
    "singkatan = ''.join(kata[0] for kata in kata_kata)\n",
    "\n",
    "print(singkatan)"
   ]
  },
  {
   "cell_type": "code",
   "execution_count": 106,
   "id": "84001d91-9dbd-4473-a5f4-2340bbebc39b",
   "metadata": {},
   "outputs": [
    {
     "name": "stdout",
     "output_type": "stream",
     "text": [
      "TAS SAPU BUMI\n"
     ]
    }
   ],
   "source": [
    "# Kalimat awal\n",
    "kalimat = \"UNIVERSITAS NUSA PUTRA SUKABUMI\"\n",
    "\n",
    "# Memecah kalimat menjadi kata-kata\n",
    "kata_kata = kalimat.split()\n",
    "\n",
    "# Mengambil bagian dari kata-kata untuk mendapatkan \"TAS SAPU BUMI\"\n",
    "output = f\"{kata_kata[0][-3:]} {kata_kata[1][-2:] + kata_kata[2][:2]} {kata_kata[3][-4:]}\"\n",
    "\n",
    "# Menampilkan output\n",
    "print(output)\n"
   ]
  },
  {
   "cell_type": "code",
   "execution_count": null,
   "id": "21a6fb57-4b97-4ff8-b49e-30112d4a1954",
   "metadata": {},
   "outputs": [],
   "source": []
  }
 ],
 "metadata": {
  "kernelspec": {
   "display_name": "Python [conda env:base] *",
   "language": "python",
   "name": "conda-base-py"
  },
  "language_info": {
   "codemirror_mode": {
    "name": "ipython",
    "version": 3
   },
   "file_extension": ".py",
   "mimetype": "text/x-python",
   "name": "python",
   "nbconvert_exporter": "python",
   "pygments_lexer": "ipython3",
   "version": "3.12.7"
  }
 },
 "nbformat": 4,
 "nbformat_minor": 5
}
